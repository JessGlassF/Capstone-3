{
 "cells": [
  {
   "cell_type": "code",
   "execution_count": null,
   "id": "197e8671-a524-4b5a-b93a-2d16dad1c411",
   "metadata": {},
   "outputs": [],
   "source": [
    "#Want to look at the possible correlations or trends to see if we can model predictions for outages to better prepare."
   ]
  },
  {
   "cell_type": "code",
   "execution_count": 1,
   "id": "1c6e9ce3-279c-4d2b-afb4-2dd8fea8a84e",
   "metadata": {},
   "outputs": [],
   "source": [
    "#Import libraries for EDA and data\n",
    "\n",
    "import numpy as np\n",
    "import pandas as pd\n",
    "\n",
    "outage_df=pd.read_csv('NoNeg_outagedata.csv')"
   ]
  },
  {
   "cell_type": "code",
   "execution_count": 4,
   "id": "1d81017c-7b1c-4f5c-a738-08fc88d29bc9",
   "metadata": {},
   "outputs": [
    {
     "name": "stdout",
     "output_type": "stream",
     "text": [
      "<class 'pandas.core.frame.DataFrame'>\n",
      "RangeIndex: 1609 entries, 0 to 1608\n",
      "Data columns (total 16 columns):\n",
      " #   Column                        Non-Null Count  Dtype \n",
      "---  ------                        --------------  ----- \n",
      " 0   Event Description             1609 non-null   object\n",
      " 1   Year                          1609 non-null   int64 \n",
      " 2   Date Event Began              1609 non-null   object\n",
      " 3   Time Event Began              1600 non-null   object\n",
      " 4   Date of Restoration           1599 non-null   object\n",
      " 5   Time of Restoration           1568 non-null   object\n",
      " 6   Respondent                    1609 non-null   object\n",
      " 7   Geographic Areas              1609 non-null   object\n",
      " 8   NERC Region                   1607 non-null   object\n",
      " 9   Demand Loss (MW)              1214 non-null   object\n",
      " 10  Number of Customers Affected  1397 non-null   object\n",
      " 11  Tags                          1608 non-null   object\n",
      " 12  Event Start                   1600 non-null   object\n",
      " 13  Event End                     1567 non-null   object\n",
      " 14  Duration                      1560 non-null   object\n",
      " 15  Is Negative                   1609 non-null   bool  \n",
      "dtypes: bool(1), int64(1), object(14)\n",
      "memory usage: 190.3+ KB\n"
     ]
    }
   ],
   "source": [
    "outage_df.info()"
   ]
  },
  {
   "cell_type": "code",
   "execution_count": 5,
   "id": "f498ffed-5a8b-43a0-a449-a1ed02216451",
   "metadata": {},
   "outputs": [],
   "source": [
    "df_cleaned = outage_df.dropna(subset=['Date Event Began', 'Time Event Began', 'Date of Restoration'])\n"
   ]
  },
  {
   "cell_type": "code",
   "execution_count": 7,
   "id": "800d316d-b21c-43bf-ab21-e5f0f0802b7d",
   "metadata": {},
   "outputs": [
    {
     "name": "stderr",
     "output_type": "stream",
     "text": [
      "C:\\Users\\hmkfs\\AppData\\Local\\Temp\\ipykernel_25804\\813181376.py:1: FutureWarning: A value is trying to be set on a copy of a DataFrame or Series through chained assignment using an inplace method.\n",
      "The behavior will change in pandas 3.0. This inplace method will never work because the intermediate object on which we are setting values always behaves as a copy.\n",
      "\n",
      "For example, when doing 'df[col].method(value, inplace=True)', try using 'df.method({col: value}, inplace=True)' or df[col] = df[col].method(value) instead, to perform the operation inplace on the original object.\n",
      "\n",
      "\n",
      "  df_cleaned['Time Event Began'].fillna('00:00:00', inplace=True)\n",
      "C:\\Users\\hmkfs\\AppData\\Local\\Temp\\ipykernel_25804\\813181376.py:1: SettingWithCopyWarning: \n",
      "A value is trying to be set on a copy of a slice from a DataFrame\n",
      "\n",
      "See the caveats in the documentation: https://pandas.pydata.org/pandas-docs/stable/user_guide/indexing.html#returning-a-view-versus-a-copy\n",
      "  df_cleaned['Time Event Began'].fillna('00:00:00', inplace=True)\n",
      "C:\\Users\\hmkfs\\AppData\\Local\\Temp\\ipykernel_25804\\813181376.py:2: SettingWithCopyWarning: \n",
      "A value is trying to be set on a copy of a slice from a DataFrame\n",
      "\n",
      "See the caveats in the documentation: https://pandas.pydata.org/pandas-docs/stable/user_guide/indexing.html#returning-a-view-versus-a-copy\n",
      "  df_cleaned['Time of Restoration'].fillna('00:00:00', inplace=True)\n",
      "C:\\Users\\hmkfs\\AppData\\Local\\Temp\\ipykernel_25804\\813181376.py:3: SettingWithCopyWarning: \n",
      "A value is trying to be set on a copy of a slice from a DataFrame\n",
      "\n",
      "See the caveats in the documentation: https://pandas.pydata.org/pandas-docs/stable/user_guide/indexing.html#returning-a-view-versus-a-copy\n",
      "  df_cleaned['NERC Region'].fillna('Unknown', inplace=True)\n",
      "C:\\Users\\hmkfs\\AppData\\Local\\Temp\\ipykernel_25804\\813181376.py:4: SettingWithCopyWarning: \n",
      "A value is trying to be set on a copy of a slice from a DataFrame\n",
      "\n",
      "See the caveats in the documentation: https://pandas.pydata.org/pandas-docs/stable/user_guide/indexing.html#returning-a-view-versus-a-copy\n",
      "  df_cleaned['Demand Loss (MW)'].fillna('0', inplace=True)\n",
      "C:\\Users\\hmkfs\\AppData\\Local\\Temp\\ipykernel_25804\\813181376.py:5: SettingWithCopyWarning: \n",
      "A value is trying to be set on a copy of a slice from a DataFrame\n",
      "\n",
      "See the caveats in the documentation: https://pandas.pydata.org/pandas-docs/stable/user_guide/indexing.html#returning-a-view-versus-a-copy\n",
      "  df_cleaned['Number of Customers Affected'].fillna('0', inplace=True)\n"
     ]
    }
   ],
   "source": [
    "df_cleaned['Time Event Began'].fillna('00:00:00', inplace=True)\n",
    "df_cleaned['Time of Restoration'].fillna('00:00:00', inplace=True)\n",
    "df_cleaned['NERC Region'].fillna('Unknown', inplace=True)\n",
    "df_cleaned['Demand Loss (MW)'].fillna('0', inplace=True)\n",
    "df_cleaned['Number of Customers Affected'].fillna('0', inplace=True)"
   ]
  },
  {
   "cell_type": "code",
   "execution_count": 8,
   "id": "9ec9e521-35d6-48a7-abbd-4bad4c6b9b47",
   "metadata": {},
   "outputs": [
    {
     "name": "stderr",
     "output_type": "stream",
     "text": [
      "C:\\Users\\hmkfs\\AppData\\Local\\Temp\\ipykernel_25804\\277336920.py:1: SettingWithCopyWarning: \n",
      "A value is trying to be set on a copy of a slice from a DataFrame.\n",
      "Try using .loc[row_indexer,col_indexer] = value instead\n",
      "\n",
      "See the caveats in the documentation: https://pandas.pydata.org/pandas-docs/stable/user_guide/indexing.html#returning-a-view-versus-a-copy\n",
      "  df_cleaned['Date Event Began'] = pd.to_datetime(df_cleaned['Date Event Began'])\n",
      "C:\\Users\\hmkfs\\AppData\\Local\\Temp\\ipykernel_25804\\277336920.py:2: SettingWithCopyWarning: \n",
      "A value is trying to be set on a copy of a slice from a DataFrame.\n",
      "Try using .loc[row_indexer,col_indexer] = value instead\n",
      "\n",
      "See the caveats in the documentation: https://pandas.pydata.org/pandas-docs/stable/user_guide/indexing.html#returning-a-view-versus-a-copy\n",
      "  df_cleaned['Time Event Began'] = pd.to_datetime(df_cleaned['Time Event Began'], format='%H:%M:%S').dt.time\n",
      "C:\\Users\\hmkfs\\AppData\\Local\\Temp\\ipykernel_25804\\277336920.py:3: SettingWithCopyWarning: \n",
      "A value is trying to be set on a copy of a slice from a DataFrame.\n",
      "Try using .loc[row_indexer,col_indexer] = value instead\n",
      "\n",
      "See the caveats in the documentation: https://pandas.pydata.org/pandas-docs/stable/user_guide/indexing.html#returning-a-view-versus-a-copy\n",
      "  df_cleaned['Date of Restoration'] = pd.to_datetime(df_cleaned['Date of Restoration'])\n",
      "C:\\Users\\hmkfs\\AppData\\Local\\Temp\\ipykernel_25804\\277336920.py:4: SettingWithCopyWarning: \n",
      "A value is trying to be set on a copy of a slice from a DataFrame.\n",
      "Try using .loc[row_indexer,col_indexer] = value instead\n",
      "\n",
      "See the caveats in the documentation: https://pandas.pydata.org/pandas-docs/stable/user_guide/indexing.html#returning-a-view-versus-a-copy\n",
      "  df_cleaned['Time of Restoration'] = pd.to_datetime(df_cleaned['Time of Restoration'], format='%H:%M:%S').dt.time\n"
     ]
    }
   ],
   "source": [
    "df_cleaned['Date Event Began'] = pd.to_datetime(df_cleaned['Date Event Began'])\n",
    "df_cleaned['Time Event Began'] = pd.to_datetime(df_cleaned['Time Event Began'], format='%H:%M:%S').dt.time\n",
    "df_cleaned['Date of Restoration'] = pd.to_datetime(df_cleaned['Date of Restoration'])\n",
    "df_cleaned['Time of Restoration'] = pd.to_datetime(df_cleaned['Time of Restoration'], format='%H:%M:%S').dt.time\n"
   ]
  },
  {
   "cell_type": "code",
   "execution_count": 9,
   "id": "3b7bbbeb-bb03-49f5-a189-d58e5b3c395a",
   "metadata": {},
   "outputs": [
    {
     "name": "stderr",
     "output_type": "stream",
     "text": [
      "C:\\Users\\hmkfs\\AppData\\Local\\Temp\\ipykernel_25804\\3702586800.py:1: SettingWithCopyWarning: \n",
      "A value is trying to be set on a copy of a slice from a DataFrame.\n",
      "Try using .loc[row_indexer,col_indexer] = value instead\n",
      "\n",
      "See the caveats in the documentation: https://pandas.pydata.org/pandas-docs/stable/user_guide/indexing.html#returning-a-view-versus-a-copy\n",
      "  df_cleaned['Event Start'] = pd.to_datetime(df_cleaned['Date Event Began'].astype(str) + ' ' + df_cleaned['Time Event Began'].astype(str))\n",
      "C:\\Users\\hmkfs\\AppData\\Local\\Temp\\ipykernel_25804\\3702586800.py:2: SettingWithCopyWarning: \n",
      "A value is trying to be set on a copy of a slice from a DataFrame.\n",
      "Try using .loc[row_indexer,col_indexer] = value instead\n",
      "\n",
      "See the caveats in the documentation: https://pandas.pydata.org/pandas-docs/stable/user_guide/indexing.html#returning-a-view-versus-a-copy\n",
      "  df_cleaned['Event End'] = pd.to_datetime(df_cleaned['Date of Restoration'].astype(str) + ' ' + df_cleaned['Time of Restoration'].astype(str))\n"
     ]
    }
   ],
   "source": [
    "df_cleaned['Event Start'] = pd.to_datetime(df_cleaned['Date Event Began'].astype(str) + ' ' + df_cleaned['Time Event Began'].astype(str))\n",
    "df_cleaned['Event End'] = pd.to_datetime(df_cleaned['Date of Restoration'].astype(str) + ' ' + df_cleaned['Time of Restoration'].astype(str))\n"
   ]
  },
  {
   "cell_type": "code",
   "execution_count": 10,
   "id": "6008204e-c118-4956-944c-6672a12a6c9e",
   "metadata": {},
   "outputs": [
    {
     "name": "stderr",
     "output_type": "stream",
     "text": [
      "C:\\Users\\hmkfs\\AppData\\Local\\Temp\\ipykernel_25804\\651458504.py:1: SettingWithCopyWarning: \n",
      "A value is trying to be set on a copy of a slice from a DataFrame.\n",
      "Try using .loc[row_indexer,col_indexer] = value instead\n",
      "\n",
      "See the caveats in the documentation: https://pandas.pydata.org/pandas-docs/stable/user_guide/indexing.html#returning-a-view-versus-a-copy\n",
      "  df_cleaned['Duration'] = pd.to_timedelta(df_cleaned['Duration']).dt.total_seconds() / 3600  # Convert to hours\n"
     ]
    }
   ],
   "source": [
    "df_cleaned['Duration'] = pd.to_timedelta(df_cleaned['Duration']).dt.total_seconds() / 3600  # Convert to hours\n"
   ]
  },
  {
   "cell_type": "code",
   "execution_count": 11,
   "id": "28af8c8e-c44b-4bb8-99bf-4d944760852b",
   "metadata": {},
   "outputs": [
    {
     "name": "stderr",
     "output_type": "stream",
     "text": [
      "C:\\Users\\hmkfs\\AppData\\Local\\Temp\\ipykernel_25804\\1214377164.py:1: SettingWithCopyWarning: \n",
      "A value is trying to be set on a copy of a slice from a DataFrame.\n",
      "Try using .loc[row_indexer,col_indexer] = value instead\n",
      "\n",
      "See the caveats in the documentation: https://pandas.pydata.org/pandas-docs/stable/user_guide/indexing.html#returning-a-view-versus-a-copy\n",
      "  df_cleaned['Demand Loss (MW)'] = pd.to_numeric(df_cleaned['Demand Loss (MW)'], errors='coerce')\n",
      "C:\\Users\\hmkfs\\AppData\\Local\\Temp\\ipykernel_25804\\1214377164.py:2: SettingWithCopyWarning: \n",
      "A value is trying to be set on a copy of a slice from a DataFrame.\n",
      "Try using .loc[row_indexer,col_indexer] = value instead\n",
      "\n",
      "See the caveats in the documentation: https://pandas.pydata.org/pandas-docs/stable/user_guide/indexing.html#returning-a-view-versus-a-copy\n",
      "  df_cleaned['Number of Customers Affected'] = pd.to_numeric(df_cleaned['Number of Customers Affected'], errors='coerce')\n"
     ]
    }
   ],
   "source": [
    "df_cleaned['Demand Loss (MW)'] = pd.to_numeric(df_cleaned['Demand Loss (MW)'], errors='coerce')\n",
    "df_cleaned['Number of Customers Affected'] = pd.to_numeric(df_cleaned['Number of Customers Affected'], errors='coerce')\n"
   ]
  },
  {
   "cell_type": "code",
   "execution_count": 12,
   "id": "a5df2fc9-e299-4428-b9a0-a962aa8eac58",
   "metadata": {},
   "outputs": [
    {
     "name": "stdout",
     "output_type": "stream",
     "text": [
      "Event Description                       object\n",
      "Year                                     int64\n",
      "Date Event Began                datetime64[ns]\n",
      "Time Event Began                        object\n",
      "Date of Restoration             datetime64[ns]\n",
      "Time of Restoration                     object\n",
      "Respondent                              object\n",
      "Geographic Areas                        object\n",
      "NERC Region                             object\n",
      "Demand Loss (MW)                       float64\n",
      "Number of Customers Affected           float64\n",
      "Tags                                    object\n",
      "Event Start                     datetime64[ns]\n",
      "Event End                       datetime64[ns]\n",
      "Duration                               float64\n",
      "Is Negative                               bool\n",
      "dtype: object\n"
     ]
    }
   ],
   "source": [
    "print(df_cleaned.dtypes)"
   ]
  },
  {
   "cell_type": "code",
   "execution_count": 13,
   "id": "84cf66c6-4ea4-4c99-9cc4-2d563c2dd6e8",
   "metadata": {},
   "outputs": [
    {
     "name": "stdout",
     "output_type": "stream",
     "text": [
      "                   Event Description  Year Date Event Began Time Event Began  \\\n",
      "0     Severe Weather - Thunderstorms  2014       2014-06-30         20:00:00   \n",
      "1     Severe Weather - Thunderstorms  2014       2014-06-30         23:20:00   \n",
      "2     Severe Weather - Thunderstorms  2014       2014-06-30         17:55:00   \n",
      "3        Physical Attack - Vandalism  2014       2014-06-24         14:54:00   \n",
      "4        Physical Attack - Vandalism  2014       2014-06-19         08:47:00   \n",
      "...                              ...   ...              ...              ...   \n",
      "1604                  Severe Weather  2000       2000-05-02         04:00:00   \n",
      "1605          Transmission Line Loss  2000       2000-03-18         19:08:00   \n",
      "1606          Transmission Line Loss  2000       2000-03-18         16:00:00   \n",
      "1607                       Ice Storm  2000       2000-01-29         22:00:00   \n",
      "1608                       Ice Storm  2000       2000-01-23         08:00:00   \n",
      "\n",
      "     Date of Restoration Time of Restoration  \\\n",
      "0             2014-07-02            18:30:00   \n",
      "1             2014-07-01            17:00:00   \n",
      "2             2014-07-01            02:53:00   \n",
      "3             2014-06-24            14:55:00   \n",
      "4             2014-06-19            08:48:00   \n",
      "...                  ...                 ...   \n",
      "1604          2000-05-02            00:00:00   \n",
      "1605          2000-03-18            00:00:00   \n",
      "1606          2000-03-18            00:00:00   \n",
      "1607          2000-02-03            00:00:00   \n",
      "1608          2000-01-28            00:00:00   \n",
      "\n",
      "                                   Respondent       Geographic Areas  \\\n",
      "0                    Exelon Corporation/ComEd               Illinois   \n",
      "1     Northern Indiana Public Service Company  North Central Indiana   \n",
      "2                                 We Energies   Southeast  Wisconsin   \n",
      "3                  Tennessee Valley Authority   Nashville, Tennessee   \n",
      "4                  Tennessee Valley Authority   Nashville, Tennessee   \n",
      "...                                       ...                    ...   \n",
      "1604                      Reliant Energy HL&P            Houston, TX   \n",
      "1605             Public Service of New Mexico             New Mexico   \n",
      "1606                        El Paso Elec. Co.                  Texas   \n",
      "1607                           Duke Power Co.         South Carolina   \n",
      "1608                           Duke Power Co.         South Carolina   \n",
      "\n",
      "     NERC Region  Demand Loss (MW)  Number of Customers Affected  \\\n",
      "0            RFC               NaN                           NaN   \n",
      "1            RFC               NaN                           NaN   \n",
      "2            MRO             424.0                           NaN   \n",
      "3           SERC               NaN                           NaN   \n",
      "4           SERC               NaN                           NaN   \n",
      "...          ...               ...                           ...   \n",
      "1604       ERCOT               0.0                           NaN   \n",
      "1605        WECC               NaN                           NaN   \n",
      "1606        MAIN             400.0                           NaN   \n",
      "1607        SERC             300.0                           NaN   \n",
      "1608        SERC             450.0                           NaN   \n",
      "\n",
      "                              Tags         Event Start           Event End  \\\n",
      "0     severe weather, thunderstorm 2014-06-30 20:00:00 2014-07-02 18:30:00   \n",
      "1     severe weather, thunderstorm 2014-06-30 23:20:00 2014-07-01 17:00:00   \n",
      "2     severe weather, thunderstorm 2014-06-30 17:55:00 2014-07-01 02:53:00   \n",
      "3              vandalism, physical 2014-06-24 14:54:00 2014-06-24 14:55:00   \n",
      "4              vandalism, physical 2014-06-19 08:47:00 2014-06-19 08:48:00   \n",
      "...                            ...                 ...                 ...   \n",
      "1604                severe weather 2000-05-02 04:00:00 2000-05-02 00:00:00   \n",
      "1605     transmission interruption 2000-03-18 19:08:00 2000-03-18 00:00:00   \n",
      "1606     transmission interruption 2000-03-18 16:00:00 2000-03-18 00:00:00   \n",
      "1607  severe weather, winter storm 2000-01-29 22:00:00 2000-02-03 00:00:00   \n",
      "1608  severe weather, winter storm 2000-01-23 08:00:00 2000-01-28 00:00:00   \n",
      "\n",
      "       Duration  Is Negative  \n",
      "0     46.500000        False  \n",
      "1     17.666667        False  \n",
      "2      8.966667        False  \n",
      "3      0.016667        False  \n",
      "4      0.016667        False  \n",
      "...         ...          ...  \n",
      "1604        NaN        False  \n",
      "1605        NaN        False  \n",
      "1606        NaN        False  \n",
      "1607        NaN        False  \n",
      "1608        NaN        False  \n",
      "\n",
      "[1592 rows x 16 columns]\n"
     ]
    },
    {
     "name": "stderr",
     "output_type": "stream",
     "text": [
      "C:\\Users\\hmkfs\\AppData\\Local\\Temp\\ipykernel_25804\\1962420292.py:2: SettingWithCopyWarning: \n",
      "A value is trying to be set on a copy of a slice from a DataFrame.\n",
      "Try using .loc[row_indexer,col_indexer] = value instead\n",
      "\n",
      "See the caveats in the documentation: https://pandas.pydata.org/pandas-docs/stable/user_guide/indexing.html#returning-a-view-versus-a-copy\n",
      "  df_cleaned['Is Negative'] = df_cleaned['Duration'] < 0\n"
     ]
    }
   ],
   "source": [
    "# Check for negative durations\n",
    "df_cleaned['Is Negative'] = df_cleaned['Duration'] < 0\n",
    "\n",
    "# Drop rows with negative durations if needed\n",
    "df_cleaned = df_cleaned[~df_cleaned['Is Negative']]\n",
    "\n",
    "print(df_cleaned)"
   ]
  },
  {
   "cell_type": "code",
   "execution_count": 14,
   "id": "0174d902-ddec-4ea0-b601-c5d148b87f29",
   "metadata": {},
   "outputs": [
    {
     "name": "stdout",
     "output_type": "stream",
     "text": [
      "       Event Description         Year               Date Event Began  \\\n",
      "count               1592  1592.000000                           1592   \n",
      "unique               371          NaN                            NaN   \n",
      "top       Severe Weather          NaN                            NaN   \n",
      "freq                 156          NaN                            NaN   \n",
      "mean                 NaN  2009.351759  2009-10-31 04:10:33.165829120   \n",
      "min                  NaN  2000.000000            2000-01-23 00:00:00   \n",
      "25%                  NaN  2007.000000            2007-07-09 00:00:00   \n",
      "50%                  NaN  2010.000000            2010-12-16 00:00:00   \n",
      "75%                  NaN  2012.000000            2012-06-30 00:00:00   \n",
      "max                  NaN  2014.000000            2014-06-30 00:00:00   \n",
      "std                  NaN     3.404900                            NaN   \n",
      "\n",
      "       Time Event Began            Date of Restoration Time of Restoration  \\\n",
      "count              1592                           1592                1592   \n",
      "unique              638                            NaN                 573   \n",
      "top            16:00:00                            NaN            12:00:00   \n",
      "freq                 39                            NaN                  63   \n",
      "mean                NaN  2009-11-02 02:00:18.090452224                 NaN   \n",
      "min                 NaN            2000-01-28 00:00:00                 NaN   \n",
      "25%                 NaN            2007-07-11 00:00:00                 NaN   \n",
      "50%                 NaN            2010-12-17 00:00:00                 NaN   \n",
      "75%                 NaN            2012-07-04 00:00:00                 NaN   \n",
      "max                 NaN            2014-07-02 00:00:00                 NaN   \n",
      "std                 NaN                            NaN                 NaN   \n",
      "\n",
      "             Respondent       Geographic Areas NERC Region  Demand Loss (MW)  \\\n",
      "count              1592                   1592        1592       1171.000000   \n",
      "unique              511                    984          21               NaN   \n",
      "top     ISO New England  Island of Puerto Rico         RFC               NaN   \n",
      "freq                 47                     29         415               NaN   \n",
      "mean                NaN                    NaN         NaN        157.852605   \n",
      "min                 NaN                    NaN         NaN          0.000000   \n",
      "25%                 NaN                    NaN         NaN          0.000000   \n",
      "50%                 NaN                    NaN         NaN         15.000000   \n",
      "75%                 NaN                    NaN         NaN        258.500000   \n",
      "max                 NaN                    NaN         NaN       9896.000000   \n",
      "std                 NaN                    NaN         NaN        354.499067   \n",
      "\n",
      "        Number of Customers Affected                          Tags  \\\n",
      "count                     423.000000                          1591   \n",
      "unique                           NaN                            88   \n",
      "top                              NaN  severe weather, thunderstorm   \n",
      "freq                             NaN                           214   \n",
      "mean                      894.349882                           NaN   \n",
      "min                         0.000000                           NaN   \n",
      "25%                         0.000000                           NaN   \n",
      "50%                         0.000000                           NaN   \n",
      "75%                         0.000000                           NaN   \n",
      "max                    118000.000000                           NaN   \n",
      "std                      8634.313919                           NaN   \n",
      "\n",
      "                          Event Start                      Event End  \\\n",
      "count                            1592                           1592   \n",
      "unique                            NaN                            NaN   \n",
      "top                               NaN                            NaN   \n",
      "freq                              NaN                            NaN   \n",
      "mean    2009-10-31 16:58:08.103015168  2009-11-02 15:20:59.321608192   \n",
      "min               2000-01-23 08:00:00            2000-01-28 00:00:00   \n",
      "25%               2007-07-09 12:34:30            2007-07-11 06:15:00   \n",
      "50%               2010-12-16 06:18:00            2010-12-17 18:00:00   \n",
      "75%               2012-06-30 01:03:45            2012-07-04 16:12:00   \n",
      "max               2014-06-30 23:20:00            2014-07-02 18:30:00   \n",
      "std                               NaN                            NaN   \n",
      "\n",
      "           Duration Is Negative  \n",
      "count   1560.000000        1592  \n",
      "unique          NaN           1  \n",
      "top             NaN       False  \n",
      "freq            NaN        1592  \n",
      "mean      46.940064         NaN  \n",
      "min        0.000000         NaN  \n",
      "25%        1.912500         NaN  \n",
      "50%       11.000000         NaN  \n",
      "75%       50.141667         NaN  \n",
      "max     3149.633333         NaN  \n",
      "std      124.371478         NaN  \n"
     ]
    }
   ],
   "source": [
    "print(df_cleaned.describe(include='all'))"
   ]
  },
  {
   "cell_type": "code",
   "execution_count": 16,
   "id": "0643e541-c66a-412a-8ff9-e8ebf99d5a4c",
   "metadata": {},
   "outputs": [
    {
     "data": {
      "image/png": "[encoded data removed]",
      "text/plain": [
       "<Figure size 1000x600 with 1 Axes>"
      ]
     },
     "metadata": {},
     "output_type": "display_data"
    }
   ],
   "source": [
    "import matplotlib.pyplot as plt\n",
    "import seaborn as sns\n",
    "\n",
    "# Plot distribution of durations\n",
    "plt.figure(figsize=(10, 6))\n",
    "sns.histplot(df_cleaned['Duration'], bins=30, kde=True)\n",
    "plt.title('Duration Distribution')\n",
    "plt.xlabel('Duration (hours)')\n",
    "plt.ylabel('Frequency')\n",
    "plt.show()"
   ]
  },
  {
   "cell_type": "code",
   "execution_count": null,
   "id": "bbd9384f-874a-4c04-91f6-771a6409b8f0",
   "metadata": {},
   "outputs": [],
   "source": [
    "#need to look at the correlations to be able to know where to invest"
   ]
  },
  {
   "cell_type": "code",
   "execution_count": 17,
   "id": "1b4fcb1f-ff3b-4e1b-8484-caba900e06bc",
   "metadata": {},
   "outputs": [],
   "source": [
    "# Save the updated dataframe to a new CSV file\n",
    "outage_df.to_csv('EDAoutagedata.csv', index=False)"
   ]
  },
  {
   "cell_type": "code",
   "execution_count": null,
   "id": "8a5132ca-6638-4edc-9552-e26754b383f0",
   "metadata": {},
   "outputs": [],
   "source": []
  }
 ],
 "metadata": {
  "kernelspec": {
   "display_name": "Python 3 (ipykernel)",
   "language": "python",
   "name": "python3"
  },
  "language_info": {
   "codemirror_mode": {
    "name": "ipython",
    "version": 3
   },
   "file_extension": ".py",
   "mimetype": "text/x-python",
   "name": "python",
   "nbconvert_exporter": "python",
   "pygments_lexer": "ipython3",
   "version": "3.12.3"
  }
 },
 "nbformat": 4,
 "nbformat_minor": 5
}
